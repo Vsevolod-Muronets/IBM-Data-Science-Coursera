{
 "cells": [
  {
   "cell_type": "markdown",
   "id": "b0c9d89d-11d9-4a98-a88d-973d3a479d6d",
   "metadata": {},
   "source": [
    "# Data Science Tools and Ecosystem"
   ]
  },
  {
   "cell_type": "markdown",
   "id": "47d9a0ef-298b-46c4-b598-bd5892f87171",
   "metadata": {},
   "source": [
    "In this notebook, Data Science Tools and Ecosystem are summarized."
   ]
  },
  {
   "cell_type": "markdown",
   "id": "739b0519-c045-4c68-ab70-84f3e059b3fc",
   "metadata": {},
   "source": [
    "**Objectives:**\n",
    "\n",
    "* List some commonly used languages for data science\n",
    "* List some commonly used libraries in data science.\n",
    "* List three development environment open source tools used in data science."
   ]
  },
  {
   "cell_type": "markdown",
   "id": "715395ba-9c97-4297-9a72-592c52877472",
   "metadata": {},
   "source": [
    "Some of the popular languages that Data Scientists use are:\n",
    "1. Python\n",
    "2. R\n",
    "3. SQL\n",
    "4. Julia"
   ]
  },
  {
   "cell_type": "markdown",
   "id": "245d7b29-9aad-434b-b1b9-bfe480113112",
   "metadata": {},
   "source": [
    "Some of the commonly used libraries used by Data Scientists include:\n",
    "\n",
    "1. Pandas\n",
    "2. Numpy\n",
    "3. Matplotlib\n",
    "4. Seaborn\n",
    "5. Scikit-learn\n",
    "6. ggplot2"
   ]
  },
  {
   "cell_type": "markdown",
   "id": "f579d99c-33b2-4374-be83-4940438a7556",
   "metadata": {},
   "source": [
    "Data Science Tools |\n",
    "---------- |\n",
    "Jupyter |\n",
    "RStudio |\n",
    "Apache Spark |"
   ]
  },
  {
   "cell_type": "markdown",
   "id": "98030ec0-a051-4d69-9cd7-04552646a8b5",
   "metadata": {},
   "source": [
    "### Below are a few examples of evaluating arithmetic expressions in Python"
   ]
  },
  {
   "cell_type": "code",
   "execution_count": 15,
   "id": "141ec8f8-9f0a-460c-b5d5-dd2a685acfd2",
   "metadata": {},
   "outputs": [
    {
     "data": {
      "text/plain": [
       "17"
      ]
     },
     "execution_count": 15,
     "metadata": {},
     "output_type": "execute_result"
    }
   ],
   "source": [
    "# This a simple arithmetic expression to mutiply then add integers\n",
    "(3*4)+5"
   ]
  },
  {
   "cell_type": "code",
   "execution_count": 17,
   "id": "29644e82-0440-4b5b-9bb8-0cc69e4c1a75",
   "metadata": {},
   "outputs": [
    {
     "data": {
      "text/plain": [
       "3.3333333333333335"
      ]
     },
     "execution_count": 17,
     "metadata": {},
     "output_type": "execute_result"
    }
   ],
   "source": [
    "# This will convert 200 minutes to hours by diving by 60\n",
    "minutes = 200\n",
    "hours = minutes / 60\n",
    "hours"
   ]
  },
  {
   "cell_type": "markdown",
   "id": "8d28648a-27b8-45fd-8499-8f58eb5fe1ff",
   "metadata": {},
   "source": [
    "## Author\n",
    "Vsevolod Muronets"
   ]
  }
 ],
 "metadata": {
  "kernelspec": {
   "display_name": "Python 3 (ipykernel)",
   "language": "python",
   "name": "python3"
  },
  "language_info": {
   "codemirror_mode": {
    "name": "ipython",
    "version": 3
   },
   "file_extension": ".py",
   "mimetype": "text/x-python",
   "name": "python",
   "nbconvert_exporter": "python",
   "pygments_lexer": "ipython3",
   "version": "3.12.4"
  }
 },
 "nbformat": 4,
 "nbformat_minor": 5
}
